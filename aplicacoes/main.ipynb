{
 "cells": [
  {
   "cell_type": "markdown",
   "id": "d485f8b6",
   "metadata": {},
   "source": []
  },
  {
   "cell_type": "markdown",
   "id": "18fd2596",
   "metadata": {},
   "source": [
    "### Funções de Manipulação de Diretórios no Pacote `os` do Python\n",
    "\n",
    "O pacote `os` do Python fornece diversas funções para manipulação de diretórios e interação com o sistema operacional. Abaixo estão algumas das funções mais comuns e suas descrições:\n",
    "\n",
    "- **`os.getcwd()`**: Retorna o diretório de trabalho atual (Current Working Directory). É útil para verificar em qual diretório o script está sendo executado.\n",
    "\n",
    "- **`os.listdir(path='.')`**: Lista todos os arquivos e diretórios no caminho especificado. Se nenhum caminho for fornecido, lista o conteúdo do diretório atual.\n",
    "\n",
    "- **`os.getlogin()`**: Retorna o nome do usuário atualmente logado no terminal.\n",
    "\n",
    "- **`os.cpu_count()`**: Retorna o número de CPUs disponíveis no sistema. É útil para otimizar tarefas que podem ser paralelizadas.\n",
    "\n",
    "- **`os.getenv(key, default=None)`**: Retorna o valor de uma variável de ambiente especificada por `key`. Se a variável não existir, retorna o valor padrão especificado.\n",
    "\n",
    "- **`os.environ`**: Um mapeamento que contém todas as variáveis de ambiente do sistema. Pode ser usado para acessar ou modificar variáveis de ambiente.\n",
    "\n",
    "Essas funções são amplamente utilizadas para criar, navegar e gerenciar diretórios, além de interagir com o ambiente do sistema operacional."
   ]
  },
  {
   "cell_type": "code",
   "execution_count": 1,
   "id": "48efb74d",
   "metadata": {},
   "outputs": [],
   "source": [
    "import os"
   ]
  },
  {
   "cell_type": "code",
   "execution_count": null,
   "id": "8a92f1e8",
   "metadata": {},
   "outputs": [
    {
     "data": {
      "text/plain": [
       "os.stat_result(st_mode=33206, st_ino=9570149208646726, st_dev=626705086613088272, st_nlink=1, st_uid=0, st_gid=0, st_size=0, st_atime=1745854902, st_mtime=1745854902, st_ctime=1745854849)"
      ]
     },
     "execution_count": 21,
     "metadata": {},
     "output_type": "execute_result"
    }
   ],
   "source": []
  },
  {
   "cell_type": "code",
   "execution_count": 13,
   "id": "866efe05",
   "metadata": {},
   "outputs": [
    {
     "data": {
      "text/plain": [
       "'LUISGUSTAVORAZZERAMA'"
      ]
     },
     "execution_count": 13,
     "metadata": {},
     "output_type": "execute_result"
    }
   ],
   "source": [
    "os.getlogin()"
   ]
  },
  {
   "cell_type": "code",
   "execution_count": 12,
   "id": "b9edff15",
   "metadata": {},
   "outputs": [
    {
     "data": {
      "text/plain": [
       "['main.ipynb', 'README.md']"
      ]
     },
     "execution_count": 12,
     "metadata": {},
     "output_type": "execute_result"
    }
   ],
   "source": [
    "os.listdir('.')"
   ]
  },
  {
   "cell_type": "code",
   "execution_count": 9,
   "id": "48ac4a72",
   "metadata": {},
   "outputs": [
    {
     "data": {
      "text/plain": [
       "12"
      ]
     },
     "execution_count": 9,
     "metadata": {},
     "output_type": "execute_result"
    }
   ],
   "source": [
    "os.cpu_count()"
   ]
  },
  {
   "cell_type": "code",
   "execution_count": 10,
   "id": "ef04bd6b",
   "metadata": {},
   "outputs": [
    {
     "data": {
      "text/plain": [
       "'Windows_NT'"
      ]
     },
     "execution_count": 10,
     "metadata": {},
     "output_type": "execute_result"
    }
   ],
   "source": [
    "os.getenv(\"OS\")"
   ]
  },
  {
   "cell_type": "code",
   "execution_count": 8,
   "id": "f45a1d23",
   "metadata": {},
   "outputs": [
    {
     "data": {
      "text/plain": [
       "'Windows_NT'"
      ]
     },
     "execution_count": 8,
     "metadata": {},
     "output_type": "execute_result"
    }
   ],
   "source": [
    "os.environ['OS']"
   ]
  },
  {
   "cell_type": "code",
   "execution_count": 7,
   "id": "e54af067",
   "metadata": {},
   "outputs": [
    {
     "data": {
      "text/plain": [
       "'c:\\\\Users\\\\LUISGUSTAVORAZZERAMA\\\\trab\\\\ipy\\\\aplicacoes'"
      ]
     },
     "execution_count": 7,
     "metadata": {},
     "output_type": "execute_result"
    }
   ],
   "source": [
    "os.getcwd()"
   ]
  }
 ],
 "metadata": {
  "kernelspec": {
   "display_name": "Python 3",
   "language": "python",
   "name": "python3"
  },
  "language_info": {
   "codemirror_mode": {
    "name": "ipython",
    "version": 3
   },
   "file_extension": ".py",
   "mimetype": "text/x-python",
   "name": "python",
   "nbconvert_exporter": "python",
   "pygments_lexer": "ipython3",
   "version": "3.13.3"
  }
 },
 "nbformat": 4,
 "nbformat_minor": 5
}
