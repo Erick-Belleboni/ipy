{
 "cells": [
  {
   "cell_type": "markdown",
   "id": "d5a4cebd",
   "metadata": {},
   "source": [
    "## Exercícios de revisão - seq, cond, loop, list"
   ]
  },
  {
   "cell_type": "markdown",
   "id": "62aa7fb1",
   "metadata": {},
   "source": [
    "- Escreva um programa que conte de 1 até `x`, imprimindo na tela cada um dos números contados. O valor de `x` deve ser recebido pelo teclado."
   ]
  },
  {
   "cell_type": "code",
   "execution_count": null,
   "id": "fa25a443",
   "metadata": {
    "vscode": {
     "languageId": "plaintext"
    }
   },
   "outputs": [],
   "source": []
  },
  {
   "cell_type": "markdown",
   "id": "d45829e2",
   "metadata": {},
   "source": [
    "- Escreva um programa que gera uma lista de compras com este formato:\n",
    "\n",
    "```\n",
    "1. água\n",
    "2. manteiga\n",
    "3. açúcar\n",
    "4. pão\n",
    "...\n",
    "```\n",
    "\n",
    "Os ítens da lista de compras devem vir de uma list. Ex.\n",
    "\n",
    "```python\n",
    "compras = ['água', 'manteiga', 'açúcar', 'pão']\n",
    "```\n",
    "\n",
    "O programa deve funcionar com listas de qualquer tamanho, não apenas com a do exemplo."
   ]
  },
  {
   "cell_type": "code",
   "execution_count": null,
   "id": "1520c3de",
   "metadata": {
    "vscode": {
     "languageId": "plaintext"
    }
   },
   "outputs": [],
   "source": []
  },
  {
   "cell_type": "markdown",
   "id": "3f2c0665",
   "metadata": {},
   "source": [
    "- Escreva um programa que imprima uma sequência como esta:\n",
    "\n",
    "```\n",
    "*\n",
    "#\n",
    "*\n",
    "#\n",
    "*\n",
    "#\n",
    "*\n",
    "#\n",
    "...\n",
    "```\n",
    "\n",
    "A quantidade de ítens da sequência deve ser recebida pelo teclado."
   ]
  },
  {
   "cell_type": "code",
   "execution_count": null,
   "id": "93e7022a",
   "metadata": {
    "vscode": {
     "languageId": "plaintext"
    }
   },
   "outputs": [],
   "source": []
  },
  {
   "cell_type": "markdown",
   "id": "ccf8add4",
   "metadata": {},
   "source": [
    "- Escreva um programa que imprime uma lista de números inteiros positivos de comprimento `x` com o seguinte formato:\n",
    "\n",
    "```\n",
    "A 1\n",
    "B 2\n",
    "A 3\n",
    "B 4\n",
    "A 5\n",
    "B 6\n",
    "...\n",
    "```\n",
    "\n",
    "O valor de `x` deve ser recebido pelo teclado."
   ]
  },
  {
   "cell_type": "code",
   "execution_count": null,
   "id": "36154a61",
   "metadata": {
    "vscode": {
     "languageId": "plaintext"
    }
   },
   "outputs": [],
   "source": []
  }
 ],
 "metadata": {
  "language_info": {
   "name": "python"
  }
 },
 "nbformat": 4,
 "nbformat_minor": 5
}
